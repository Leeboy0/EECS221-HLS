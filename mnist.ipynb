{
 "cells": [
  {
   "cell_type": "code",
   "execution_count": null,
   "id": "b0495f44-77a0-4210-b2a8-5e9daf558b39",
   "metadata": {},
   "outputs": [
    {
     "data": {
      "application/javascript": "\ntry {\nrequire(['notebook/js/codecell'], function(codecell) {\n  codecell.CodeCell.options_default.highlight_modes[\n      'magic_text/x-csrc'] = {'reg':[/^%%microblaze/]};\n  Jupyter.notebook.events.one('kernel_ready.Kernel', function(){\n      Jupyter.notebook.get_cells().map(function(cell){\n          if (cell.cell_type == 'code'){ cell.auto_highlight(); } }) ;\n  });\n});\n} catch (e) {};\n"
     },
     "metadata": {},
     "output_type": "display_data"
    },
    {
     "data": {
      "application/javascript": "\ntry {\nrequire(['notebook/js/codecell'], function(codecell) {\n  codecell.CodeCell.options_default.highlight_modes[\n      'magic_text/x-csrc'] = {'reg':[/^%%pybind11/]};\n  Jupyter.notebook.events.one('kernel_ready.Kernel', function(){\n      Jupyter.notebook.get_cells().map(function(cell){\n          if (cell.cell_type == 'code'){ cell.auto_highlight(); } }) ;\n  });\n});\n} catch (e) {};\n"
     },
     "metadata": {},
     "output_type": "display_data"
    }
   ],
   "source": [
    "from pynq import Overlay, allocate\n",
    "import numpy as np\n",
    "\n",
    "overlay = Overlay('mlp_fast.bit')  # your generated bitstream\n",
    "mlp_ip = overlay.mlp_fast_0  # IP block name from your design\n"
   ]
  },
  {
   "cell_type": "code",
   "execution_count": null,
   "id": "20db5153-bb02-4d1d-9387-6ee182d5cfee",
   "metadata": {},
   "outputs": [
    {
     "name": "stdout",
     "output_type": "stream",
     "text": [
      "299.997\n",
      "374.99625\n",
      "1333.32\n"
     ]
    }
   ],
   "source": [
    "INPUT_SIZE = 784\n",
    "OUTPUT_SIZE = 10\n",
    "\n",
    "# Allocate input/output buffers\n",
    "input_buffer = allocate(shape=(INPUT_SIZE,), dtype=np.float32)\n",
    "output_buffer = allocate(shape=(OUTPUT_SIZE,), dtype=np.float32)\n",
    "\n",
    "# Assign physical addresses to IP registers\n",
    "mlp_ip.write(0x10, input_buffer.physical_address)  # input address\n",
    "mlp_ip.write(0x18, output_buffer.physical_address) # output address\n"
   ]
  },
  {
   "cell_type": "code",
   "execution_count": null,
   "id": "b6d0d550-39d9-4c77-88a7-1041b1f5738b",
   "metadata": {},
   "outputs": [],
   "source": [
    "def mlp_inference_fpga(image):\n",
    "    # Copy data into input buffer\n",
    "    input_buffer[:] = image[:]\n",
    "\n",
    "    # Start inference\n",
    "    mlp_ip.write(0x00, 1)  # Start IP (usually AP_START)\n",
    "\n",
    "    # Wait until done\n",
    "    while (mlp_ip.read(0x00) & 0x2) == 0:  # AP_DONE signal check\n",
    "        pass\n",
    "\n",
    "    # Read results\n",
    "    return np.array(output_buffer)\n"
   ]
  },
  {
   "cell_type": "code",
   "execution_count": null,
   "id": "dd85d265-166c-47e9-b7f1-3599cd5ca36b",
   "metadata": {},
   "outputs": [
    {
     "name": "stdout",
     "output_type": "stream",
     "text": [
      "CTRL (<class 'pynq.registers.RegisterCTRL'>, 0, 32, None, None, 'read-write')\n",
      "GIER (<class 'pynq.registers.RegisterGIER'>, 4, 32, None, None, 'read-write')\n",
      "IP_IER (<class 'pynq.registers.RegisterIP_IER'>, 8, 32, None, None, 'read-write')\n",
      "IP_ISR (<class 'pynq.registers.RegisterIP_ISR'>, 12, 32, None, None, 'read-write')\n",
      "im_1 (<class 'pynq.registers.Registerim_1'>, 16, 32, None, None, 'write-only')\n",
      "im_2 (<class 'pynq.registers.Registerim_2'>, 20, 32, None, None, 'write-only')\n",
      "out_r_1 (<class 'pynq.registers.Registerout_r_1'>, 28, 32, None, None, 'write-only')\n",
      "out_r_2 (<class 'pynq.registers.Registerout_r_2'>, 32, 32, None, None, 'write-only')\n"
     ]
    }
   ],
   "source": [
    "# Load MNIST test data\n",
    "x_test = np.load('x_test.npy') / 255.0\n",
    "y_test = np.load('y_test.npy')\n",
    "\n",
    "# Test single inference\n",
    "idx = 0  # Test first image\n",
    "result = mlp_inference_fpga(x_test[idx].flatten())\n",
    "\n",
    "print(\"FPGA inference result:\", result)\n",
    "print(\"Predicted digit:\", np.argmax(result))\n",
    "print(\"Actual digit:\", y_test[idx])\n"
   ]
  },
  {
   "cell_type": "code",
   "execution_count": null,
   "id": "ef386bb5-59a4-4af2-9c83-7e220c6b94e1",
   "metadata": {},
   "outputs": [],
   "source": [
    "correct = 0\n",
    "for i in range(len(x_test)):\n",
    "    result = mlp_inference_fpga(x_test[i].flatten())\n",
    "    if np.argmax(result) == y_test[i]:\n",
    "        correct += 1\n",
    "\n",
    "accuracy = correct / len(x_test)\n",
    "print(\"FPGA inference accuracy:\", accuracy)\n"
   ]
  },
  {
   "cell_type": "code",
   "execution_count": null,
   "id": "f93155b4-0eb3-411e-a3cd-717ed349fe8f",
   "metadata": {},
   "outputs": [],
   "source": [
    "import time\n",
    "\n",
    "start_time = time.time()\n",
    "for i in range(1000):  # Test first 1000 samples for timing\n",
    "    mlp_inference_fpga(x_test[i].flatten())\n",
    "\n",
    "end_time = time.time()\n",
    "fps = 1000 / (end_time - start_time)\n",
    "\n",
    "print(\"FPGA inference FPS:\", fps)\n"
   ]
  },
  {
   "cell_type": "code",
   "execution_count": null,
   "id": "90f4ebdd-b33b-45fc-bbb8-d34b7bd04b4d",
   "metadata": {},
   "outputs": [
    {
     "name": "stdout",
     "output_type": "stream",
     "text": [
      "acc hls 0.9764\n",
      "acc py 0.9764\n"
     ]
    }
   ],
   "source": [
    "import time\n",
    "\n",
    "start_time = time.time()\n",
    "for i in range(1000):  # Test first 1000 samples for timing\n",
    "    mlp_inference_fpga(x_test[i].flatten())\n",
    "\n",
    "end_time = time.time()\n",
    "fps = 1000 / (end_time - start_time)\n",
    "\n",
    "print(\"FPGA inference FPS:\", fps)\n"
   ]
  },
  {
   "cell_type": "code",
   "execution_count": 10,
   "id": "3dfd8065-f879-4afd-975d-2ca735ec8ec6",
   "metadata": {},
   "outputs": [
    {
     "name": "stdout",
     "output_type": "stream",
     "text": [
      "43.2 ms ± 381 µs per loop (mean ± std. dev. of 10 runs, 1 loop each)\n",
      "7.4 s ± 18.6 ms per loop (mean ± std. dev. of 10 runs, 1 loop each)\n",
      "Performance gain: 171.33220449705442\n"
     ]
    }
   ],
   "source": [
    "hw_time = %timeit -n 1 -r 10 -o mnist_hw(x_test.flatten())\n",
    "sw_time = %timeit -n 1 -r 10 -o mnist_sw(x_test)\n",
    "\n",
    "print('Performance gain:', sw_time.average / hw_time.average) "
   ]
  },
  {
   "cell_type": "code",
   "execution_count": 11,
   "id": "4653e3f8",
   "metadata": {},
   "outputs": [
    {
     "name": "stdout",
     "output_type": "stream",
     "text": [
      "hw fps = 231630.8\n",
      "sw fps = 1351.9\n"
     ]
    }
   ],
   "source": [
    "print(\"hw fps = {:.1f}\".format((hw_time.average/10000)**-1))\n",
    "print(\"sw fps = {:.1f}\".format((sw_time.average/10000)**-1))"
   ]
  }
 ],
 "metadata": {
  "kernelspec": {
   "display_name": "Python 3",
   "language": "python",
   "name": "python3"
  },
  "language_info": {
   "codemirror_mode": {
    "name": "ipython",
    "version": 3
   },
   "file_extension": ".py",
   "mimetype": "text/x-python",
   "name": "python",
   "nbconvert_exporter": "python",
   "pygments_lexer": "ipython3",
   "version": "3.8.10"
  },
  "vscode": {
   "interpreter": {
    "hash": "916dbcbb3f70747c44a77c7bcd40155683ae19c65e1c03b4aa3499c5328201f1"
   }
  }
 },
 "nbformat": 4,
 "nbformat_minor": 5
}
